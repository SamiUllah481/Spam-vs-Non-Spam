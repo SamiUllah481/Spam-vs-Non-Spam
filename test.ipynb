{
 "cells": [
  {
   "cell_type": "markdown",
   "id": "550de91e-8607-44dd-91d1-766bc803be3c",
   "metadata": {},
   "source": [
    "Task Title: Machine Learning Task\r\n",
    "\r\n",
    "Description\r\n",
    "\r\n",
    "Project Domain / Category Data Science/Machine Learning Complete in 5 Days Abstract / Introduction Email has become a powerful tool for communication as it saves a lot of time and cost. It is one of the most popular and secure mediums for online transferring and communicating messages or data through the web. But, due to social networks, most of the emails contain unwanted information which is called spam. Identifying such spam emails is one of the important challenges. In this project, we will use the PYTHON text classification technique to identify or classify email spam messages. We will find accuracy, time, and error rate by applying suitable algorithms (such as NaiveBayes, NaiveBayesMultinomial, and J48, etc.) on Email Dataset and we will also compare which algorithm is best for text classification. *Functional Requirements: The administrator will perform all these tasks. 1. Collect Data Set * Gathering the data for Email spam contains spam and non-spam messages 2. Pre-processing * As most of the data in the real world are incomplete containing noisy and missing values. Therefore we have to apply Pre-processing to your data. 3. Feature Selection * After the pre-processing step, we apply the feature selection algorithm, the algorithm which deploy here is the Best First Feature Selection algorithm. 4. Apply Spam Filter Algorithms. * Handle Data: Load the dataset and split it into training and test datasets. * Summarize Data: summarize the properties in the training dataset so that we can calculate probabilities and make predictions. * Make a Prediction: Use the summaries of the dataset to generate a single prediction. * Make Predictions: Generate predictions given a test dataset and a summarized training dataset. * Evaluate Accuracy: Evaluate the accuracy of predictions made for a test dataset as the percentage correct out of all predictions made. 5. Train & Test Data * Split data into 70% training & 30% testing data sets. 6. Confusion Matrix * Create a confusion matrix table to describe the performance of a classification model. 7. Accuracy * Find the Accuracy of all algorithms and compare."
   ]
  },
  {
   "cell_type": "code",
   "execution_count": 242,
   "id": "72da1150-d111-4e67-becb-59ac487b8fa3",
   "metadata": {},
   "outputs": [],
   "source": [
    "import pandas as pd\n",
    "import numpy as np\n",
    "import matplotlib.pyplot as plt\n",
    "import seaborn as sns\n",
    "import nltk\n",
    "from nltk.corpus import stopwords\n",
    "from nltk.stem import PorterStemmer\n",
    "import time  \n",
    "from sklearn.feature_extraction.text import TfidfVectorizer\n",
    "\n",
    "from sklearn.model_selection import train_test_split\n",
    "\n",
    "from sklearn.naive_bayes import MultinomialNB\n",
    "\n",
    "from sklearn.tree import DecisionTreeClassifier\n",
    "\n",
    "from sklearn.metrics import accuracy_score, confusion_matrix"
   ]
  },
  {
   "cell_type": "code",
   "execution_count": 244,
   "id": "54207f3d-902e-4d1e-829d-4b05060f9a1e",
   "metadata": {},
   "outputs": [],
   "source": [
    "# Load the dataset\n",
    "data = pd.read_csv('spam_or_not_spam.csv')"
   ]
  },
  {
   "cell_type": "code",
   "execution_count": 246,
   "id": "258cfa59-13a7-4308-b545-b16071876e04",
   "metadata": {},
   "outputs": [],
   "source": [
    "# Check for NaN values in the 'email' column and drop them\n",
    "data = data.dropna(subset=['email'])  # This will remove rows where 'email' is NaN"
   ]
  },
  {
   "cell_type": "code",
   "execution_count": 248,
   "id": "64a15879-8103-4325-aaa0-5748ac432829",
   "metadata": {},
   "outputs": [
    {
     "name": "stdout",
     "output_type": "stream",
     "text": [
      "Shape of the dataset: (2999, 2)\n"
     ]
    }
   ],
   "source": [
    "# printing the shape of dataset\n",
    "print(\"Shape of the dataset:\", data.shape)"
   ]
  },
  {
   "cell_type": "code",
   "execution_count": 250,
   "id": "05e550ab-48f9-4a8c-a393-370a5e7b5d83",
   "metadata": {},
   "outputs": [
    {
     "name": "stdout",
     "output_type": "stream",
     "text": [
      "                                               email  label\n",
      "0   date wed NUMBER aug NUMBER NUMBER NUMBER NUMB...      0\n",
      "1  martin a posted tassos papadopoulos the greek ...      0\n",
      "2  man threatens explosion in moscow thursday aug...      0\n",
      "3  klez the virus that won t die already the most...      0\n",
      "4   in adding cream to spaghetti carbonara which ...      0\n"
     ]
    }
   ],
   "source": [
    "# Displaying the first few rows of the dataset to get an overview of the data\n",
    "print(data.head())"
   ]
  },
  {
   "cell_type": "code",
   "execution_count": 252,
   "id": "bfefece6-ad23-4979-a52a-e720f39d4f03",
   "metadata": {},
   "outputs": [
    {
     "name": "stdout",
     "output_type": "stream",
     "text": [
      "Index(['email', 'label'], dtype='object')\n"
     ]
    }
   ],
   "source": [
    "# Printing the names of the columns in the dataset\n",
    "print(data.columns)"
   ]
  },
  {
   "cell_type": "code",
   "execution_count": 254,
   "id": "c56fb399-4443-42ec-b5d0-c65f0c30c685",
   "metadata": {},
   "outputs": [
    {
     "name": "stdout",
     "output_type": "stream",
     "text": [
      "email    0\n",
      "label    0\n",
      "dtype: int64\n"
     ]
    }
   ],
   "source": [
    "# Print the number of missing values in each column of the dataset\n",
    "print(data.isnull().sum())"
   ]
  },
  {
   "cell_type": "code",
   "execution_count": 256,
   "id": "13b24f0d-04ec-4558-80e2-5b7d32333b5d",
   "metadata": {
    "scrolled": true
   },
   "outputs": [
    {
     "data": {
      "image/png": "[encoded data removed]",
      "text/plain": [
       "<Figure size 640x480 with 1 Axes>"
      ]
     },
     "metadata": {},
     "output_type": "display_data"
    }
   ],
   "source": [
    "# Plot bar plot for spam vs non-spam emails\n",
    "sns.countplot(x='label', data=data)\n",
    "plt.show()"
   ]
  },
  {
   "cell_type": "markdown",
   "id": "97ad9962-bb60-4cef-ba06-d46c7f443d23",
   "metadata": {},
   "source": [
    "With TFID Features:"
   ]
  },
  {
   "cell_type": "code",
   "execution_count": 259,
   "id": "7f77ccee-c480-4987-ac02-a262f0ba32b9",
   "metadata": {},
   "outputs": [],
   "source": [
    "# Feature selection and Vectorization\n",
    "# Initialize the TfidfVectorizer with English stop words to preprocess the text data\n",
    "vectorizer = TfidfVectorizer(stop_words='english')\n",
    "\n",
    "# Transform the 'email' column from the data into a matrix of TF-IDF features\n",
    "X = vectorizer.fit_transform(data['email'])\n",
    "\n",
    "# Extract the labels from the data for classification\n",
    "y = data['label']"
   ]
  },
  {
   "cell_type": "code",
   "execution_count": 260,
   "id": "2fc81edc-342c-429e-a3ca-3738d66ffa86",
   "metadata": {},
   "outputs": [],
   "source": [
    "# # Split the dataset into training and testing sets\n",
    "# The test size is set to 30% of the data, and a random state is specified for reproducibility\n",
    "X_train, X_test, y_train, y_test = train_test_split(X, y, test_size=0.3, random_state=42)\n"
   ]
  },
  {
   "cell_type": "code",
   "execution_count": 261,
   "id": "91a3d31a-11e2-4c11-af13-171678dbfb95",
   "metadata": {},
   "outputs": [
    {
     "name": "stdout",
     "output_type": "stream",
     "text": [
      "Naive Bayes Accuracy: 0.8866666666666667\n",
      "Naive Bayes Error Rate: 0.11333333333333329\n",
      "Naive Bayes Time Taken: 0.0030035972595214844 seconds\n",
      "Naive Bayes Multinomial Accuracy: 0.8866666666666667\n",
      "Naive Bayes Multinomial Error Rate: 0.11333333333333329\n",
      "Naive Bayes Multinomial Time Taken: 0.0030150413513183594 seconds\n",
      "J48 Accuracy: 0.9544444444444444\n",
      "J48 Error Rate: 0.04555555555555557\n",
      "J48 Time Taken: 0.5309112071990967 seconds\n",
      "Confusion Matrix for Naive Bayes:\n",
      "[[741   0]\n",
      " [102  57]]\n",
      "Confusion Matrix for Naive Bayes Multinomial:\n",
      "[[741   0]\n",
      " [102  57]]\n",
      "Confusion Matrix for J48:\n",
      "[[719  22]\n",
      " [ 19 140]]\n"
     ]
    }
   ],
   "source": [
    "# # Initialize the Naive Bayes classifier\n",
    "# Create an instance of the Multinomial Naive Bayes classifier\n",
    "nb = MultinomialNB()\n",
    "\n",
    "# Fit the Naive Bayes model on the training data\n",
    "nb.fit(X_train, y_train)\n",
    "\n",
    "# Predict the labels for the test set using the trained Naive Bayes model\n",
    "y_pred_nb = nb.predict(X_test)\n",
    "\n",
    "\n",
    "# # Initialize the Multinomial Naive Bayes classifier\n",
    "# Create another instance of the Multinomial Naive Bayes classifier\n",
    "nbm = MultinomialNB()\n",
    "\n",
    "# Fit the Multinomial Naive Bayes model on the training data\n",
    "nbm.fit(X_train, y_train)\n",
    "\n",
    "# Predict the labels for the test set using the trained Multinomial Naive Bayes model\n",
    "y_pred_nbm = nbm.predict(X_test)\n",
    "\n",
    "\n",
    "# # Initialize the J48 Decision Tree classifier\n",
    "# Create an instance of the Decision Tree Classifier\n",
    "j48 = DecisionTreeClassifier()\n",
    "\n",
    "# Fit the J48 model on the training data\n",
    "j48.fit(X_train, y_train)\n",
    "\n",
    "# Predict the labels for the test set using the trained J48 model\n",
    "y_pred_j48 = j48.predict(X_test)\n",
    "\n",
    "\n",
    "# Measure the time taken to fit the Naive Bayes model\n",
    "start_time = time.time()\n",
    "# Fit the Naive Bayes model on the training data\n",
    "nb.fit(X_train, y_train)\n",
    "end_time = time.time()\n",
    "# Calculate the time taken\n",
    "time_taken_nb = end_time - start_time\n",
    "\n",
    "# Predict the labels for the test set using the trained Naive Bayes model\n",
    "y_pred_nb = nb.predict(X_test)\n",
    "\n",
    "# Calculate the error rate for the Naive Bayes model\n",
    "error_rate_nb = 1 - accuracy_score(y_test, y_pred_nb)\n",
    "\n",
    "# Print the accuracy, error rate, and time taken of the Naive Bayes model on the test set\n",
    "print('Naive Bayes Accuracy:', accuracy_score(y_test, y_pred_nb))\n",
    "print('Naive Bayes Error Rate:', error_rate_nb)\n",
    "print('Naive Bayes Time Taken:', time_taken_nb, 'seconds')\n",
    "\n",
    "# Measure the time taken to fit the Multinomial Naive Bayes model\n",
    "start_time = time.time()\n",
    "# Fit the Multinomial Naive Bayes model on the training data\n",
    "nbm.fit(X_train, y_train)\n",
    "end_time = time.time()\n",
    "# Calculate the time taken\n",
    "time_taken_nbm = end_time - start_time\n",
    "\n",
    "# Predict the labels for the test set using the trained Multinomial Naive Bayes model\n",
    "y_pred_nbm = nbm.predict(X_test)\n",
    "\n",
    "# Calculate the error rate for the Multinomial Naive Bayes model\n",
    "error_rate_nbm = 1 - accuracy_score(y_test, y_pred_nbm)\n",
    "\n",
    "# Print the accuracy, error rate, and time taken of the Multinomial Naive Bayes model on the test set\n",
    "print('Naive Bayes Multinomial Accuracy:', accuracy_score(y_test, y_pred_nbm))\n",
    "print('Naive Bayes Multinomial Error Rate:', error_rate_nbm)\n",
    "print('Naive Bayes Multinomial Time Taken:', time_taken_nbm, 'seconds')\n",
    "\n",
    "# Measure the time taken to fit the J48 model\n",
    "start_time = time.time()\n",
    "# Fit the J48 model on the training data\n",
    "j48.fit(X_train, y_train)\n",
    "end_time = time.time()\n",
    "# Calculate the time taken\n",
    "time_taken_j48 = end_time - start_time\n",
    "\n",
    "# Predict the labels for the test set using the trained J48 model\n",
    "y_pred_j48 = j48.predict(X_test)\n",
    "\n",
    "# Calculate the error rate for the J48 model\n",
    "error_rate_j48 = 1 - accuracy_score(y_test, y_pred_j48)\n",
    "\n",
    "# Print the accuracy, error rate, and time taken of the J48 model on the test set\n",
    "print('J48 Accuracy:', accuracy_score(y_test, y_pred_j48))\n",
    "print('J48 Error Rate:', error_rate_j48)\n",
    "print('J48 Time Taken:', time_taken_j48, 'seconds')\n",
    "\n",
    "\n",
    "# # Print the Confusion Matrix for each model\n",
    "# Display the confusion matrix for the Naive Bayes model\n",
    "print('Confusion Matrix for Naive Bayes:')\n",
    "print(confusion_matrix(y_test, y_pred_nb))\n",
    "\n",
    "# Display the confusion matrix for the Multinomial Naive Bayes model\n",
    "print('Confusion Matrix for Naive Bayes Multinomial:')\n",
    "print(confusion_matrix(y_test, y_pred_nbm))\n",
    "\n",
    "# Display the confusion matrix for the J48 model\n",
    "print('Confusion Matrix for J48:')\n",
    "print(confusion_matrix(y_test, y_pred_j48))\n",
    "\n",
    "x = range(len(models))\n"
   ]
  },
  {
   "cell_type": "markdown",
   "id": "b1202967-f8c6-4bbc-b886-2a296ef03a44",
   "metadata": {},
   "source": [
    "With Feature Extraction using Greedy Algorithm:"
   ]
  },
  {
   "cell_type": "code",
   "execution_count": 265,
   "id": "cf394997-bd42-444d-ad96-d9ee3b340fe6",
   "metadata": {},
   "outputs": [],
   "source": [
    "from sklearn.feature_selection import SelectFromModel\n",
    "from sklearn.linear_model import LogisticRegression\n",
    "\n",
    "# Assuming X contains your TF-IDF features and y contains the labels\n",
    "model = LogisticRegression()\n",
    "selector = SelectFromModel(model)\n",
    "selector.fit(X, y)\n",
    "selected_features = X[:, selector.get_support()]"
   ]
  },
  {
   "cell_type": "code",
   "execution_count": 266,
   "id": "5d4f6da1-f68a-4948-b967-04727a295cf4",
   "metadata": {},
   "outputs": [
    {
     "name": "stdout",
     "output_type": "stream",
     "text": [
      "Naive Bayes Accuracy: 0.9733333333333334\n",
      "Naive Bayes Error Rate: 0.026666666666666616\n",
      "Naive Bayes Time Taken: 0.002000093460083008 seconds\n",
      "Naive Bayes Multinomial Accuracy: 0.9733333333333334\n",
      "Naive Bayes Multinomial Error Rate: 0.026666666666666616\n",
      "Naive Bayes Multinomial Time Taken: 0.0019996166229248047 seconds\n",
      "J48 Accuracy: 0.96\n",
      "J48 Error Rate: 0.040000000000000036\n",
      "J48 Time Taken: 0.30698156356811523 seconds\n",
      "Confusion Matrix for Naive Bayes:\n",
      "[[500   0]\n",
      " [ 16  84]]\n",
      "Confusion Matrix for Naive Bayes Multinomial:\n",
      "[[500   0]\n",
      " [ 16  84]]\n",
      "Confusion Matrix for J48:\n",
      "[[487  13]\n",
      " [ 11  89]]\n",
      "Accuracy with selected features: 0.9633333333333334\n"
     ]
    }
   ],
   "source": [
    "from sklearn.model_selection import train_test_split\n",
    "from sklearn.metrics import accuracy_score\n",
    "\n",
    "# Split data into training and testing sets\n",
    "X_train, X_test, y_train, y_test = train_test_split(selected_features, y, test_size=0.2, random_state=42)\n",
    "\n",
    "# # Initialize the Naive Bayes classifier\n",
    "# Create an instance of the Multinomial Naive Bayes classifier\n",
    "nb = MultinomialNB()\n",
    "\n",
    "# Fit the Naive Bayes model on the training data\n",
    "nb.fit(X_train, y_train)\n",
    "\n",
    "# Predict the labels for the test set using the trained Naive Bayes model\n",
    "y_pred_nb = nb.predict(X_test)\n",
    "\n",
    "\n",
    "# # Initialize the Multinomial Naive Bayes classifier\n",
    "# Create another instance of the Multinomial Naive Bayes classifier\n",
    "nbm = MultinomialNB()\n",
    "\n",
    "# Fit the Multinomial Naive Bayes model on the training data\n",
    "nbm.fit(X_train, y_train)\n",
    "\n",
    "# Predict the labels for the test set using the trained Multinomial Naive Bayes model\n",
    "y_pred_nbm = nbm.predict(X_test)\n",
    "\n",
    "\n",
    "# # Initialize the J48 Decision Tree classifier\n",
    "# Create an instance of the Decision Tree Classifier\n",
    "j48 = DecisionTreeClassifier()\n",
    "\n",
    "# Fit the J48 model on the training data\n",
    "j48.fit(X_train, y_train)\n",
    "\n",
    "# Predict the labels for the test set using the trained J48 model\n",
    "y_pred_j48 = j48.predict(X_test)\n",
    "\n",
    "\n",
    "# Measure the time taken to fit the Naive Bayes model\n",
    "start_time = time.time()\n",
    "# Fit the Naive Bayes model on the training data\n",
    "nb.fit(X_train, y_train)\n",
    "end_time = time.time()\n",
    "# Calculate the time taken\n",
    "time_taken_nb = end_time - start_time\n",
    "\n",
    "# Predict the labels for the test set using the trained Naive Bayes model\n",
    "y_pred_nb = nb.predict(X_test)\n",
    "\n",
    "# Calculate the error rate for the Naive Bayes model\n",
    "error_rate_nb = 1 - accuracy_score(y_test, y_pred_nb)\n",
    "\n",
    "# Print the accuracy, error rate, and time taken of the Naive Bayes model on the test set\n",
    "print('Naive Bayes Accuracy:', accuracy_score(y_test, y_pred_nb))\n",
    "print('Naive Bayes Error Rate:', error_rate_nb)\n",
    "print('Naive Bayes Time Taken:', time_taken_nb, 'seconds')\n",
    "\n",
    "\n",
    "# # Initialize the Multinomial Naive Bayes classifier\n",
    "# Create another instance of the Multinomial Naive Bayes classifier\n",
    "nbm = MultinomialNB()\n",
    "\n",
    "# Measure the time taken to fit the Multinomial Naive Bayes model\n",
    "start_time = time.time()\n",
    "# Fit the Multinomial Naive Bayes model on the training data\n",
    "nbm.fit(X_train, y_train)\n",
    "end_time = time.time()\n",
    "# Calculate the time taken\n",
    "time_taken_nbm = end_time - start_time\n",
    "\n",
    "# Predict the labels for the test set using the trained Multinomial Naive Bayes model\n",
    "y_pred_nbm = nbm.predict(X_test)\n",
    "\n",
    "# Calculate the error rate for the Multinomial Naive Bayes model\n",
    "error_rate_nbm = 1 - accuracy_score(y_test, y_pred_nbm)\n",
    "\n",
    "# Print the accuracy, error rate, and time taken of the Multinomial Naive Bayes model on the test set\n",
    "print('Naive Bayes Multinomial Accuracy:', accuracy_score(y_test, y_pred_nbm))\n",
    "print('Naive Bayes Multinomial Error Rate:', error_rate_nbm)\n",
    "print('Naive Bayes Multinomial Time Taken:', time_taken_nbm, 'seconds')\n",
    "\n",
    "\n",
    "# # Initialize the J48 Decision Tree classifier\n",
    "# Create an instance of the Decision Tree Classifier\n",
    "j48 = DecisionTreeClassifier()\n",
    "\n",
    "# Measure the time taken to fit the J48 model\n",
    "start_time = time.time()\n",
    "# Fit the J48 model on the training data\n",
    "j48.fit(X_train, y_train)\n",
    "end_time = time.time()\n",
    "# Calculate the time taken\n",
    "time_taken_j48 = end_time - start_time\n",
    "\n",
    "# Predict the labels for the test set using the trained J48 model\n",
    "y_pred_j48 = j48.predict(X_test)\n",
    "\n",
    "# Calculate the error rate for the J48 model\n",
    "error_rate_j48 = 1 - accuracy_score(y_test, y_pred_j48)\n",
    "\n",
    "# Print the accuracy, error rate, and time taken of the J48 model on the test set\n",
    "print('J48 Accuracy:', accuracy_score(y_test, y_pred_j48))\n",
    "print('J48 Error Rate:', error_rate_j48)\n",
    "print('J48 Time Taken:', time_taken_j48, 'seconds')\n",
    "\n",
    "\n",
    "# # Print the Confusion Matrix for each model\n",
    "# Display the confusion matrix for the Naive Bayes model\n",
    "print('Confusion Matrix for Naive Bayes:')\n",
    "print(confusion_matrix(y_test, y_pred_nb))\n",
    "\n",
    "# Display the confusion matrix for the Multinomial Naive Bayes model\n",
    "print('Confusion Matrix for Naive Bayes Multinomial:')\n",
    "print(confusion_matrix(y_test, y_pred_nbm))\n",
    "\n",
    "# Display the confusion matrix for the J48 model\n",
    "print('Confusion Matrix for J48:')\n",
    "print(confusion_matrix(y_test, y_pred_j48))\n",
    "\n",
    "# Train a new model with selected features\n",
    "model = LogisticRegression()\n",
    "model.fit(X_train, y_train)\n",
    "\n",
    "# Predict on the test set\n",
    "y_pred = model.predict(X_test)\n",
    "\n",
    "# Calculate accuracy\n",
    "accuracy = accuracy_score(y_test, y_pred)\n",
    "print(\"Accuracy with selected features:\", accuracy)\n"
   ]
  },
  {
   "cell_type": "code",
   "execution_count": 267,
   "id": "3e42f9ee-c4b1-42e8-af1d-940f005fca11",
   "metadata": {},
   "outputs": [
    {
     "data": {
      "image/png": "[encoded data removed]",
      "text/plain": [
       "<Figure size 1200x600 with 2 Axes>"
      ]
     },
     "metadata": {},
     "output_type": "display_data"
    }
   ],
   "source": [
    "\n",
    "# Create a bar plot for accuracies\n",
    "plt.figure(figsize=(12, 6))\n",
    "plt.subplot(1, 2, 1)\n",
    "plt.bar(x, accuracies, color='blue', alpha=0.7)\n",
    "plt.xticks(x, models)\n",
    "plt.ylim(0, 1)\n",
    "plt.title('Model Accuracies')\n",
    "plt.ylabel('Accuracy')\n",
    "plt.xlabel('Models')\n",
    "\n",
    "# Create a bar plot for error rates\n",
    "plt.subplot(1, 2, 2)\n",
    "plt.bar(x, error_rates, color='red', alpha=0.7)\n",
    "plt.xticks(x, models)\n",
    "plt.ylim(0, 1)\n",
    "plt.title('Model Error Rates')\n",
    "plt.ylabel('Error Rate')\n",
    "plt.xlabel('Models')\n",
    "\n",
    "# Show the plots\n",
    "plt.tight_layout()\n",
    "plt.show()"
   ]
  }
 ],
 "metadata": {
  "kernelspec": {
   "display_name": "Python 3 (ipykernel)",
   "language": "python",
   "name": "python3"
  },
  "language_info": {
   "codemirror_mode": {
    "name": "ipython",
    "version": 3
   },
   "file_extension": ".py",
   "mimetype": "text/x-python",
   "name": "python",
   "nbconvert_exporter": "python",
   "pygments_lexer": "ipython3",
   "version": "3.12.4"
  }
 },
 "nbformat": 4,
 "nbformat_minor": 5
}
